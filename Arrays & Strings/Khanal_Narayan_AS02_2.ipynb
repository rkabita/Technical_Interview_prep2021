{
 "cells": [
  {
   "cell_type": "code",
   "execution_count": 24,
   "metadata": {},
   "outputs": [
    {
     "data": {
      "text/plain": [
       "(array([[-4.61185871,  1.27053402,  0.34132469]]),\n",
       " array([[[ 0.17013213,  0.84430229,  0.199805  ],\n",
       "         [ 0.95475745, -0.22841249,  0.13160662],\n",
       "         [-0.24391241,  0.48474877,  0.97095708]]]))"
      ]
     },
     "execution_count": 24,
     "metadata": {},
     "output_type": "execute_result"
    }
   ],
   "source": [
    "#Given 3-dimensional equation is :\n",
    "\n",
    "# x(t)= X(t-1) - y(t-1)\n",
    "\n",
    "# y(t)= -2x(t-1)- 4y(t-1) + Z(t-1)\n",
    "\n",
    "#Z(t) = y(t-1) + Z(t-1)\n",
    "\n",
    "\n",
    "#In order to get started with any calculation we first need to find our 'A' matrix.\n",
    "\n",
    "#According to the above equation our A matrix is=\n",
    "\n",
    "#1\t-1\t0\n",
    "#-2\t-4\t1\n",
    "#0\t1\t1\n",
    "\n",
    "\n",
    "#calculating Eigen value and eigen vectors using eigen function;\n",
    "\n",
    "#python code:\n",
    "from pylab import*\n",
    "eig([[[1,-1,0], [-2,-4,1], [1,1,0]]])\n",
    "\n",
    "#An eigen value tells us whether a particular component of a system's state grows or shrink over time.\n",
    "\n",
    "#for discrete-time models:\n",
    "\n",
    "#An eigenvalue tells us whether a particular component of a system’s state (given by its corresponding eigenvector) grows or shrinks over time.\n",
    "#|λ|>1  means that the component is growing.\n",
    "\n",
    "#|λ|<1  means that the component is shrinking.\n",
    "\n",
    "#|λ|=1  means that the component is conserved\n",
    "\n",
    "#and the absolute value of the dominant eigenvalue \\(λ_{d}\\) determines the stability of the whole system as follows:\n",
    "#|λ𝑑|>1 : The system is unstable, diverging to inﬁnity.\n",
    "\n",
    "#|λ𝑑|<1 : The system is stable, converging to the origin.\n",
    "\n",
    "#|λ𝑑|=1 : The system is stable, but the dominant eigenvector component is conserved, and therefore the system may converge to a non-zero equilibrium point.\n",
    "\n",
    "### in the result below, the first array is eigen value and the value of second array is corresponding eigenvectors.\n",
    "### After running above code:\n",
    "### we got dominant eigenvalue is -4.61 and its absolute |λ𝑑| = 4.61,\n",
    "### and as we know if the dominant abs eigen vector is greater than 1,\n",
    "### the system is unstable.\n",
    "### Hence, the given system is unstable which means diverging to infinity.\n",
    "\n",
    "\n",
    "\n",
    "\n",
    "\n"
   ]
  },
  {
   "cell_type": "code",
   "execution_count": null,
   "metadata": {},
   "outputs": [],
   "source": []
  }
 ],
 "metadata": {
  "kernelspec": {
   "display_name": "Python 3",
   "language": "python",
   "name": "python3"
  },
  "language_info": {
   "codemirror_mode": {
    "name": "ipython",
    "version": 3
   },
   "file_extension": ".py",
   "mimetype": "text/x-python",
   "name": "python",
   "nbconvert_exporter": "python",
   "pygments_lexer": "ipython3",
   "version": "3.7.4"
  }
 },
 "nbformat": 4,
 "nbformat_minor": 2
}
